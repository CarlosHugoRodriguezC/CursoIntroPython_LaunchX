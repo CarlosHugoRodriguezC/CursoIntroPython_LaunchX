{
 "cells": [
  {
   "cell_type": "markdown",
   "metadata": {},
   "source": [
    "# KATA 4"
   ]
  },
  {
   "cell_type": "markdown",
   "metadata": {},
   "source": [
    "## Ejercicio 1"
   ]
  },
  {
   "cell_type": "code",
   "execution_count": 15,
   "metadata": {},
   "outputs": [
    {
     "name": "stdout",
     "output_type": "stream",
     "text": [
      " \n",
      "On average, the Moon moves 4cm away from the Earth every year\n",
      " The highest daylight temperature of the Moon is 127 C\n",
      " \n",
      "On average, the Moon moves 4cm away from the Earth every year\n",
      " The highest daylight temperature of the Moon is 127 Celsius\n"
     ]
    }
   ],
   "source": [
    "## Ejercicio 1\n",
    "\n",
    "text = \"\"\"Interesting facts about the Moon. The Moon is Earth's only satellite. There are several interesting facts about the Moon and how it affects life here on Earth. \n",
    "On average, the Moon moves 4cm away from the Earth every year. This yearly drift is not significant enough to cause immediate effects on Earth. The highest daylight temperature of the Moon is 127 C.\"\"\"\n",
    "\n",
    "oraciones = text.split('.')\n",
    "\n",
    "palabras_pistas = [\n",
    "    'average',\n",
    "    'temperature',\n",
    "    'distance',\n",
    "]\n",
    "\n",
    "# recorrer palabras_pistas y buscar en oraciones\n",
    "for palabra in palabras_pistas:\n",
    "    for oracion in oraciones:\n",
    "        if palabra in oracion:\n",
    "            print(oracion)\n",
    "            break  \n",
    "for palabra in palabras_pistas:\n",
    "    for oracion in oraciones:\n",
    "        if palabra in oracion:\n",
    "            print(oracion.replace('C', 'Celsius'))\n",
    "            break  \n",
    "\n"
   ]
  },
  {
   "cell_type": "markdown",
   "metadata": {},
   "source": [
    "## Ejercicio 2"
   ]
  },
  {
   "cell_type": "code",
   "execution_count": 16,
   "metadata": {},
   "outputs": [
    {
     "name": "stdout",
     "output_type": "stream",
     "text": [
      "Gravity Facts About Moon\n",
      "----------------------------------\n",
      "planeta = Earth\n",
      "gravedad = 1.6199999999999999m/s \n",
      "nombre = Moon\n",
      "\n",
      "----------------------------------\n",
      "planeta = Earth\n",
      "gravedad = 1.6199999999999999m/s \n",
      "nombre = Moon\n",
      "\n",
      "Gravity facts about Moon\n",
      "--------------------------------\n",
      "Name of planet: Earth\n",
      "Gravity on planet: 0.00162m/s2\n",
      "\n"
     ]
    }
   ],
   "source": [
    "name = 'Moon'\n",
    "gravity = 0.00162\n",
    "planet = 'Earth'\n",
    "\n",
    "title = f'Gravity Facts about {name}'\n",
    "facts =f\"\"\"{'-' * (len(title) + 10)}\n",
    "planeta = {planet}\n",
    "gravedad = {str(gravity * 1000) }m/s \n",
    "nombre = {name}\"\"\"\n",
    "\n",
    "template = f\"\"\"{title.title()}\n",
    "{facts}\n",
    "\"\"\"\n",
    "\n",
    "\n",
    "print(template)\n",
    "\n",
    "\n",
    "name = 'Moon'\n",
    "gravity = 0.00162\n",
    "planet = 'Earth'\n",
    "\n",
    "print(facts)\n",
    "\n",
    "new_template = \"\"\"\n",
    "Gravity facts about {name}\n",
    "--------------------------------\n",
    "Name of planet: {planet}\n",
    "Gravity on planet: {gravity}m/s2\n",
    "\"\"\"\n",
    "\n",
    "print (new_template.format(name=name, planet=planet, gravity=gravity))\n"
   ]
  }
 ],
 "metadata": {
  "interpreter": {
   "hash": "e7370f93d1d0cde622a1f8e1c04877d8463912d04d973331ad4851f04de6915a"
  },
  "kernelspec": {
   "display_name": "Python 3.10.2 64-bit",
   "language": "python",
   "name": "python3"
  },
  "language_info": {
   "codemirror_mode": {
    "name": "ipython",
    "version": 3
   },
   "file_extension": ".py",
   "mimetype": "text/x-python",
   "name": "python",
   "nbconvert_exporter": "python",
   "pygments_lexer": "ipython3",
   "version": "3.10.2"
  },
  "orig_nbformat": 4
 },
 "nbformat": 4,
 "nbformat_minor": 2
}
