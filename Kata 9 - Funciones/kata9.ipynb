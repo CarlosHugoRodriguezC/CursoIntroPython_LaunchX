{
 "cells": [
  {
   "cell_type": "markdown",
   "metadata": {},
   "source": [
    "# KATA 9"
   ]
  },
  {
   "cell_type": "markdown",
   "metadata": {},
   "source": [
    "## Ejercicio 1: Trabaja con argumentos en funciones"
   ]
  },
  {
   "cell_type": "code",
   "execution_count": 9,
   "metadata": {},
   "outputs": [
    {
     "name": "stdout",
     "output_type": "stream",
     "text": [
      "Report: \n",
      "    Avarage: 90.0%\n",
      "    Tank 1: 80%\n",
      "    Tank 2: 90%\n",
      "    Tank 3: 100%\n",
      "     \n",
      "New Report:\n",
      "    Avarage: 90.0%\n",
      "    Tank 1: 80%\n",
      "    Tank 2: 90%\n",
      "    Tank 3: 100%\n",
      "    \n"
     ]
    }
   ],
   "source": [
    "def report (tank1, tank2, tank3):\n",
    "    avarage = (tank1 + tank2 + tank3) / 3\n",
    "    return f\"\"\"Report: \n",
    "    Avarage: {avarage}%\n",
    "    Tank 1: {tank1}%\n",
    "    Tank 2: {tank2}%\n",
    "    Tank 3: {tank3}%\n",
    "     \"\"\"\n",
    "print(report(80, 90, 100))\n",
    "\n",
    "\n",
    "def avarage(values):\n",
    "    return sum(values)/len(values)\n",
    "\n",
    "avarage([80, 90, 100])\n",
    "\n",
    "def new_report(tank1, tank2, tank3):\n",
    "    \n",
    "    return f\"\"\"New Report:\n",
    "    Avarage: {avarage([tank1,tank2,tank3])}%\n",
    "    Tank 1: {tank1}%\n",
    "    Tank 2: {tank2}%\n",
    "    Tank 3: {tank3}%\n",
    "    \"\"\"\n",
    "\n",
    "print(new_report(80, 90, 100))\n",
    "\n"
   ]
  },
  {
   "cell_type": "markdown",
   "metadata": {},
   "source": [
    "## Ejercicio 2: Trabajo con argumentos de palabra clave"
   ]
  },
  {
   "cell_type": "code",
   "execution_count": 21,
   "metadata": {},
   "outputs": [
    {
     "name": "stdout",
     "output_type": "stream",
     "text": [
      " Mission Report: \n",
      "    Mission to Mars\n",
      "    Total flight time: 120 minutes\n",
      "    Total fuel: 300 liters\n",
      " New Mission Report: \n",
      "    Mission to Mars\n",
      "    Total flight time: 660 minutes\n",
      "    Total fuel: 300 liters\n",
      "        external tank: 100 liters\n",
      "        internal tank: 200 liters\n"
     ]
    }
   ],
   "source": [
    "def mission_report( prelaunch_check, flight_time, destination, external_tank, internal_tank):\n",
    "    return f\"\"\" Mission Report: \n",
    "    Mission to {destination}\n",
    "    Total flight time: {flight_time} minutes\n",
    "    Total fuel: {external_tank + internal_tank} liters\"\"\"\n",
    "\n",
    "print(mission_report(True, 120, \"Mars\", 100, 200))\n",
    "\n",
    "\n",
    "def new_mission_report(destination, *minutes, **fuel_reservoirs):\n",
    "    report =  f\"\"\" New Mission Report: \n",
    "    Mission to {destination}\n",
    "    Total flight time: {sum(minutes)} minutes\n",
    "    Total fuel: {sum(fuel_reservoirs.values())} liters\"\"\"\n",
    "\n",
    "    for tank_name, reservoir in fuel_reservoirs.items():\n",
    "        report += f\"\"\"\n",
    "        {tank_name} tank: {reservoir} liters\"\"\"\n",
    "\n",
    "\n",
    "    return report\n",
    "\n",
    "\n",
    "\n",
    "print(new_mission_report(\"Mars\", 120, 240, 300, external=100, internal=200))\n"
   ]
  }
 ],
 "metadata": {
  "interpreter": {
   "hash": "e7370f93d1d0cde622a1f8e1c04877d8463912d04d973331ad4851f04de6915a"
  },
  "kernelspec": {
   "display_name": "Python 3.10.2 64-bit",
   "language": "python",
   "name": "python3"
  },
  "language_info": {
   "codemirror_mode": {
    "name": "ipython",
    "version": 3
   },
   "file_extension": ".py",
   "mimetype": "text/x-python",
   "name": "python",
   "nbconvert_exporter": "python",
   "pygments_lexer": "ipython3",
   "version": "3.10.2"
  },
  "orig_nbformat": 4
 },
 "nbformat": 4,
 "nbformat_minor": 2
}
