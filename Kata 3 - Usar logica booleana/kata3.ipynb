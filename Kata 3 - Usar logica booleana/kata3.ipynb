{
 "cells": [
  {
   "cell_type": "markdown",
   "metadata": {},
   "source": [
    "# KATA 3"
   ]
  },
  {
   "cell_type": "markdown",
   "metadata": {},
   "source": [
    "## Ejercicio 1\n",
    "Un asteroide se acerca y viaja a una velocidad de 49km/s"
   ]
  },
  {
   "cell_type": "code",
   "execution_count": 10,
   "metadata": {},
   "outputs": [
    {
     "name": "stdout",
     "output_type": "stream",
     "text": [
      "¡Alerta!, asteroide acercandose\n"
     ]
    }
   ],
   "source": [
    "asteroide = 49 # asteroide viajando a 49 km/s\n",
    "\n",
    "# Si el asteroide viaja a 49 km/s, entonces:\n",
    "if (asteroide > 25):\n",
    "    print(\"¡Alerta!, asteroide acercandose\")\n",
    "else: # Si no, entonces:\n",
    "    print(\"No hay asteroides acercandose\")"
   ]
  },
  {
   "cell_type": "markdown",
   "metadata": {},
   "source": [
    "## Ejercicio 2\n",
    "Si un asteroide entra en la atmósfera de la Tierra a una velocidad mayor o igual a 20 km/s, a veces produce un rayo de luz que se puede ver desde la Tierra. Escribe la lógica condicional que usa declaraciones if, else, y elif para alertar a las personas de todo el mundo que deben buscar un asteroide en el cielo. ¡Hay uno que se dirige a la tierra ahora a una velocidad de 19 km/s!"
   ]
  },
  {
   "cell_type": "code",
   "execution_count": 11,
   "metadata": {},
   "outputs": [
    {
     "name": "stdout",
     "output_type": "stream",
     "text": [
      "No hay asteroides en el cielo\n"
     ]
    }
   ],
   "source": [
    "asteroide = 19 # asteroide viajando a 19 km/s\n",
    "\n",
    "if (asteroide == 20):\n",
    "    print(\"¡Alerta!, asteroide acercandose, visible en el cielo\")\n",
    "elif (asteroide > 20):\n",
    "    print(\"¡Alerta!, asteroide acercandose, visible en el cielo\")\n",
    "else:\n",
    "    print(\"No hay asteroides en el cielo\")"
   ]
  },
  {
   "cell_type": "markdown",
   "metadata": {},
   "source": [
    "## Ejercicio 3\n",
    "*Los asteroides de menos de 25 metros en su dimensión más grande probablemente se quemarán a medida que entren en la atmósfera de la Tierra.\n",
    "\n",
    "Si una pieza de un asteroide que es más grande que 25 metros pero más pequeña que 1000 metros golpeara la Tierra, causaría mucho daño.\n",
    "También discutimos en el ejercicio anterior que:\n",
    "\n",
    "La velocidad del asteroide varía en función de lo cerca que esté del sol, y cualquier velocidad superior a 25 kilómetros por segundo (km/s) merece una advertencia.\n",
    "Si un asteroide entra en la atmósfera de la Tierra a una velocidad mayor o igual a 20 km/s, a veces produce un rayo de luz que se puede ver desde la Tierra.\n",
    "Usando toda esta información, escribe un programa que emita la advertencia o información correcta a la gente de la Tierra, según la velocidad y el tamaño de un asteroide. Utiliza instrucciones if, else, y elif, así como los operadores and y or."
   ]
  },
  {
   "cell_type": "code",
   "execution_count": 14,
   "metadata": {},
   "outputs": [
    {
     "name": "stdout",
     "output_type": "stream",
     "text": [
      "¡Alerta!, Peligro de asteroide\n"
     ]
    }
   ],
   "source": [
    "velocidad_asteroide = 25 # velocidad del asteroide\n",
    "tamanio_asteroide = 20 # tamaño del asteroide\n",
    "\n",
    "if ( tamanio_asteroide > 25 and velocidad_asteroide > 25  ):\n",
    "    print(\"¡Alerta!, Peligro de asteroide\")\n",
    "elif ( velocidad_asteroide >= 25 ):\n",
    "    print(\"¡Alerta!, Peligro de asteroide\")\n",
    "elif ( tamanio_asteroide < 25 ):\n",
    "    print(\"No hay peligro de asteroide\")\n",
    "else:\n",
    "    print(\"No hay peligro de asteroide\")"
   ]
  }
 ],
 "metadata": {
  "interpreter": {
   "hash": "e7370f93d1d0cde622a1f8e1c04877d8463912d04d973331ad4851f04de6915a"
  },
  "kernelspec": {
   "display_name": "Python 3.10.2 64-bit",
   "language": "python",
   "name": "python3"
  },
  "language_info": {
   "codemirror_mode": {
    "name": "ipython",
    "version": 3
   },
   "file_extension": ".py",
   "mimetype": "text/x-python",
   "name": "python",
   "nbconvert_exporter": "python",
   "pygments_lexer": "ipython3",
   "version": "3.10.2"
  },
  "orig_nbformat": 4
 },
 "nbformat": 4,
 "nbformat_minor": 2
}
