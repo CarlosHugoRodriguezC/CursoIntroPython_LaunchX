{
 "cells": [
  {
   "cell_type": "markdown",
   "metadata": {},
   "source": [
    "# KATA 6"
   ]
  },
  {
   "cell_type": "markdown",
   "metadata": {},
   "source": [
    "## Ejercicio 1"
   ]
  },
  {
   "cell_type": "code",
   "execution_count": 1,
   "metadata": {},
   "outputs": [
    {
     "name": "stdout",
     "output_type": "stream",
     "text": [
      "Plutón\n"
     ]
    }
   ],
   "source": [
    "planet_list = [\n",
    "    'Mercurio', 'Venus', 'Tierra', 'Marte', 'Jupiter', 'Saturno', 'Urano', 'Neptuno'\n",
    "]\n",
    "\n",
    "planet_list.append('Plutón')\n",
    "\n",
    "print(planet_list[-1])\n",
    "\n"
   ]
  },
  {
   "cell_type": "markdown",
   "metadata": {},
   "source": [
    "## Ejercicio 2"
   ]
  },
  {
   "cell_type": "code",
   "execution_count": 3,
   "metadata": {},
   "outputs": [
    {
     "name": "stdout",
     "output_type": "stream",
     "text": [
      "\n",
      "Los planetas mas cercanos al sol antes de 4 son: \n",
      "['Mercury', 'Venus', 'Earth', 'Mars']\n",
      "\n",
      "\n",
      "Los planetas mas alejados al sol despues de 4 son:\n",
      "['Saturn', 'Uranus', 'Neptune']\n",
      "\n"
     ]
    }
   ],
   "source": [
    "planets = [ 'Mercury', 'Venus', 'Earth', 'Mars', 'Jupiter', 'Saturn', 'Uranus', 'Neptune' ]\n",
    "\n",
    "planet_name = input('Introduce un planeta: ')\n",
    "\n",
    "find_planet = planets.index(planet_name)\n",
    "\n",
    "print(f\"\"\"\n",
    "Los planetas mas cercanos al sol antes de {find_planet} son: \n",
    "{planets[0:find_planet]}\n",
    "\"\"\")\n",
    "\n",
    "print(f\"\"\"\n",
    "Los planetas mas alejados al sol despues de {find_planet} son:\n",
    "{planets[find_planet+1:]}\n",
    "\"\"\")\n",
    "\n"
   ]
  }
 ],
 "metadata": {
  "interpreter": {
   "hash": "e7370f93d1d0cde622a1f8e1c04877d8463912d04d973331ad4851f04de6915a"
  },
  "kernelspec": {
   "display_name": "Python 3.10.2 64-bit",
   "language": "python",
   "name": "python3"
  },
  "language_info": {
   "codemirror_mode": {
    "name": "ipython",
    "version": 3
   },
   "file_extension": ".py",
   "mimetype": "text/x-python",
   "name": "python",
   "nbconvert_exporter": "python",
   "pygments_lexer": "ipython3",
   "version": "3.10.2"
  },
  "orig_nbformat": 4
 },
 "nbformat": 4,
 "nbformat_minor": 2
}
