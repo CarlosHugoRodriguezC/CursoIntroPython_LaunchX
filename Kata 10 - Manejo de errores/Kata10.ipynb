{
 "cells": [
  {
   "cell_type": "markdown",
   "metadata": {},
   "source": [
    "# KATA 10"
   ]
  },
  {
   "cell_type": "code",
   "execution_count": 26,
   "metadata": {},
   "outputs": [
    {
     "name": "stdout",
     "output_type": "stream",
     "text": [
      "No existe el archivo: [Errno 2] No such file or directory: 'archivo_no_existe.txt'\n"
     ]
    }
   ],
   "source": [
    "def main():\n",
    "    # open(\"archvio_no_existe.txt\")\n",
    "    try:\n",
    "        open('archivo_no_existe.txt')\n",
    "    except FileNotFoundError as err:\n",
    "        print('No existe el archivo: '+str(err))\n",
    "    except IsADirectoryError:\n",
    "        print('No se puede abrir un directorio')\n",
    "    except PermissionError:\n",
    "        print('No tiene permisos para abrir el archivo')\n",
    "    except (BlockingIOError, TimeoutError):\n",
    "        print('Tiempo de espera agotado o tamaño del archivo demasiado grande')\n",
    "    except: \n",
    "        print('Error desconocido')\n",
    "    else:\n",
    "        print('Exito')\n",
    "\n",
    "if __name__ == \"__main__\":\n",
    "    main()"
   ]
  },
  {
   "cell_type": "code",
   "execution_count": 27,
   "metadata": {},
   "outputs": [
    {
     "name": "stdout",
     "output_type": "stream",
     "text": [
      "Error: There is not enough water for 5 astronauts after 2 days!\n",
      "Error: water_left() missing 1 required positional argument: 'days_left'\n",
      "Error: All arguments must be of type int, but received: '2'\n"
     ]
    }
   ],
   "source": [
    "def water_left(astronauts, water_left, days_left):\n",
    "    daily_usage = astronauts * 11\n",
    "    total_usage = daily_usage * days_left\n",
    "    total_water_left = water_left - total_usage\n",
    "    return f\"Total water left after {days_left} days is: {total_water_left} liters\"\n",
    "\n",
    "water_left(5, 100, 2)\n",
    "\n",
    "def water_left(astronauts, water_left, days_left):\n",
    "    daily_usage = astronauts * 11\n",
    "    total_usage = daily_usage * days_left\n",
    "    total_water_left = water_left - total_usage\n",
    "    if total_water_left < 0:\n",
    "        raise RuntimeError(f\"There is not enough water for {astronauts} astronauts after {days_left} days!\")\n",
    "    return f\"Total water left after {days_left} days is: {total_water_left} liters\"\n",
    "\n",
    "# new_water_left(5, 100, 2)\n",
    "\n",
    "def alert_navigation_system(err):\n",
    "    print(f\"Error: {err}\")\n",
    "\n",
    "\n",
    "try:\n",
    "    water_left(5, 100, 2)\n",
    "except RuntimeError as err:\n",
    "    alert_navigation_system(err)\n",
    "\n",
    "\n",
    "def water_left(astronauts, water_left, days_left):\n",
    "    for argument in [astronauts, water_left, days_left]:\n",
    "        try:\n",
    "            # If argument is an int, the following operation will work\n",
    "            argument / 10\n",
    "        except TypeError:\n",
    "            # TypError will be raised only if it isn't the right type \n",
    "            # Raise the same exception but with a better error message\n",
    "            raise TypeError(f\"All arguments must be of type int, but received: '{argument}'\")\n",
    "    daily_usage = astronauts * 11\n",
    "    total_usage = daily_usage * days_left\n",
    "    total_water_left = water_left - total_usage\n",
    "    if total_water_left < 0:\n",
    "        raise RuntimeError(f\"There is not enough water for {astronauts} astronauts after {days_left} days!\")\n",
    "    return f\"Total water left after {days_left} days is: {total_water_left} liters\"\n",
    "\n",
    "try:\n",
    "    water_left(5, 100)\n",
    "except RuntimeError as err:\n",
    "    alert_navigation_system(err)\n",
    "except TypeError as err:\n",
    "    alert_navigation_system(err)\n",
    "\n",
    "\n",
    "try:\n",
    "    water_left(5, 100, '2')\n",
    "except RuntimeError as err:\n",
    "    alert_navigation_system(err)\n",
    "except TypeError as err:\n",
    "    alert_navigation_system(err)\n",
    "\n"
   ]
  }
 ],
 "metadata": {
  "interpreter": {
   "hash": "e7370f93d1d0cde622a1f8e1c04877d8463912d04d973331ad4851f04de6915a"
  },
  "kernelspec": {
   "display_name": "Python 3.10.2 64-bit",
   "language": "python",
   "name": "python3"
  },
  "language_info": {
   "codemirror_mode": {
    "name": "ipython",
    "version": 3
   },
   "file_extension": ".py",
   "mimetype": "text/x-python",
   "name": "python",
   "nbconvert_exporter": "python",
   "pygments_lexer": "ipython3",
   "version": "3.10.2"
  },
  "orig_nbformat": 4
 },
 "nbformat": 4,
 "nbformat_minor": 2
}
